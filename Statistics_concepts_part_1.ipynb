{
  "nbformat": 4,
  "nbformat_minor": 0,
  "metadata": {
    "colab": {
      "name": "Statistics concepts part 1.ipynb",
      "provenance": [],
      "collapsed_sections": [],
      "authorship_tag": "ABX9TyOXHuqy4XhqCXbBDAOlCG/c",
      "include_colab_link": true
    },
    "kernelspec": {
      "name": "python3",
      "display_name": "Python 3"
    },
    "language_info": {
      "name": "python"
    }
  },
  "cells": [
    {
      "cell_type": "markdown",
      "metadata": {
        "id": "view-in-github",
        "colab_type": "text"
      },
      "source": [
        "<a href=\"https://colab.research.google.com/github/iamatul1214/statistics-using-Python/blob/main/Statistics_concepts_part_1.ipynb\" target=\"_parent\"><img src=\"https://colab.research.google.com/assets/colab-badge.svg\" alt=\"Open In Colab\"/></a>"
      ]
    },
    {
      "cell_type": "markdown",
      "source": [
        "## 1. Z score\n",
        "## 2. IQR (Interquaratile range)"
      ],
      "metadata": {
        "id": "sLBqwav8n9_D"
      }
    },
    {
      "cell_type": "code",
      "source": [
        "import numpy as np\n",
        "import matplotlib.pyplot as plt"
      ],
      "metadata": {
        "id": "MMLKZ4tFoEk6"
      },
      "execution_count": 1,
      "outputs": []
    },
    {
      "cell_type": "code",
      "source": [
        "## Let's define a dataset\n",
        "dataset=[11,1,2,3,4,5,6,7,8,9,110,48,34,23,55,76,82,36,40,50,555,1018,1200,1201,1202]"
      ],
      "metadata": {
        "id": "nzhfNct3oK9c"
      },
      "execution_count": 22,
      "outputs": []
    },
    {
      "cell_type": "code",
      "source": [
        "## Let's try to plot them on histomgram\n",
        "plt.hist(dataset)"
      ],
      "metadata": {
        "colab": {
          "base_uri": "https://localhost:8080/",
          "height": 355
        },
        "id": "liwkWMwVogGs",
        "outputId": "c61beccb-4113-4c81-986f-b2e3b8fe7f60"
      },
      "execution_count": 23,
      "outputs": [
        {
          "output_type": "execute_result",
          "data": {
            "text/plain": [
              "(array([20.,  0.,  0.,  0.,  1.,  0.,  0.,  0.,  1.,  3.]),\n",
              " array([1.0000e+00, 1.2110e+02, 2.4120e+02, 3.6130e+02, 4.8140e+02,\n",
              "        6.0150e+02, 7.2160e+02, 8.4170e+02, 9.6180e+02, 1.0819e+03,\n",
              "        1.2020e+03]),\n",
              " <a list of 10 Patch objects>)"
            ]
          },
          "metadata": {},
          "execution_count": 23
        },
        {
          "output_type": "display_data",
          "data": {
            "image/png": "[encoded data removed]",
            "text/plain": [
              "<Figure size 432x288 with 1 Axes>"
            ]
          },
          "metadata": {
            "needs_background": "light"
          }
        }
      ]
    },
    {
      "cell_type": "code",
      "source": [
        "## Let's create a function for detecting the outliers using Zscore\n",
        "def find_outliers(data):\n",
        "  threshold=3      ## we are assuming that any values which are more than 3rd standard deviation will be outlier\n",
        "  mean=np.mean(data)\n",
        "  sd=np.std(data)\n",
        "\n",
        "  for i in data:\n",
        "    z_score=(i-mean)/sd\n",
        "\n",
        "    if np.abs(z_score) > threshold :\n",
        "      outliers.append(i)\n",
        "\n",
        "  return outliers"
      ],
      "metadata": {
        "id": "z52HJr-polUn"
      },
      "execution_count": 27,
      "outputs": []
    },
    {
      "cell_type": "code",
      "source": [
        "outliers=find_outliers(dataset)\n",
        "print(outliers)"
      ],
      "metadata": {
        "colab": {
          "base_uri": "https://localhost:8080/"
        },
        "id": "EfKlau7BpW_-",
        "outputId": "a15a579d-1c6e-46ed-bacc-45cab223428a"
      },
      "execution_count": 26,
      "outputs": [
        {
          "output_type": "stream",
          "name": "stdout",
          "text": [
            "[]\n"
          ]
        }
      ]
    },
    {
      "cell_type": "markdown",
      "source": [
        "### 2. IQR\n",
        "      Steps to calculate IQR\n",
        "      1. Sort the dataset\n",
        "      2. Calculate Q1(25 precentile) and Q3 (75 percentile)\n",
        "      3. IQR= Q3 - Q1\n",
        "      4. Lower fence= Q1-1.5(IQR)\n",
        "      5. Upper fence= Q3 +1.5(IQR)"
      ],
      "metadata": {
        "id": "KCUesPLqqysh"
      }
    },
    {
      "cell_type": "code",
      "source": [
        "## sorting the data\n",
        "sorted_dataset=sorted(dataset)\n",
        "print(sorted_dataset)"
      ],
      "metadata": {
        "colab": {
          "base_uri": "https://localhost:8080/"
        },
        "id": "9JNTwmI1pcTh",
        "outputId": "e3f3b167-b07f-49e9-a72f-84500cf01adf"
      },
      "execution_count": 30,
      "outputs": [
        {
          "output_type": "stream",
          "name": "stdout",
          "text": [
            "[1, 2, 3, 4, 5, 6, 7, 8, 9, 11, 23, 34, 36, 40, 48, 50, 55, 76, 82, 110, 555, 1018, 1200, 1201, 1202]\n"
          ]
        }
      ]
    },
    {
      "cell_type": "code",
      "source": [
        "## calculating Q1 and Q3\n",
        "q1,q3=np.percentile(dataset,[25,75])\n",
        "print(q1,q3)\n"
      ],
      "metadata": {
        "colab": {
          "base_uri": "https://localhost:8080/"
        },
        "id": "-IiixbcfuMSb",
        "outputId": "4dad60af-678b-423e-a56a-236d7ca747ad"
      },
      "execution_count": 32,
      "outputs": [
        {
          "output_type": "stream",
          "name": "stdout",
          "text": [
            "7.0 82.0\n"
          ]
        }
      ]
    },
    {
      "cell_type": "code",
      "source": [
        "## calculating IQR\n",
        "Iqr=q3-q1\n",
        "Iqr"
      ],
      "metadata": {
        "colab": {
          "base_uri": "https://localhost:8080/"
        },
        "id": "HMuofV0euzrK",
        "outputId": "20bce7bd-264f-434f-8f24-0527340d3c51"
      },
      "execution_count": 33,
      "outputs": [
        {
          "output_type": "execute_result",
          "data": {
            "text/plain": [
              "75.0"
            ]
          },
          "metadata": {},
          "execution_count": 33
        }
      ]
    },
    {
      "cell_type": "code",
      "source": [
        "## calculating lower fence and upper fence\n",
        "lower_fence=q1-(1.5 *Iqr)\n",
        "upper_fence=q3+(1.5 *Iqr)\n",
        "\n",
        "print(f\"lower fence = {lower_fence} and upper fence= {upper_fence}\")"
      ],
      "metadata": {
        "colab": {
          "base_uri": "https://localhost:8080/"
        },
        "id": "g1jbPuQ5vPzc",
        "outputId": "8524f7f6-12a8-4e79-c32e-5c78044e6156"
      },
      "execution_count": 37,
      "outputs": [
        {
          "output_type": "stream",
          "name": "stdout",
          "text": [
            "lower fence = -105.5 and upper fence= 194.5\n"
          ]
        }
      ]
    },
    {
      "cell_type": "code",
      "source": [
        ""
      ],
      "metadata": {
        "id": "C5bqTKZpwBtZ"
      },
      "execution_count": null,
      "outputs": []
    }
  ]
}