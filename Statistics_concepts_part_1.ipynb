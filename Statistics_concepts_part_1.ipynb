{
  "nbformat": 4,
  "nbformat_minor": 0,
  "metadata": {
    "colab": {
      "name": "Statistics concepts part 1.ipynb",
      "provenance": [],
      "collapsed_sections": [],
      "authorship_tag": "ABX9TyONhH5g6OZSNZ/xc++NX+P1",
      "include_colab_link": true
    },
    "kernelspec": {
      "name": "python3",
      "display_name": "Python 3"
    },
    "language_info": {
      "name": "python"
    }
  },
  "cells": [
    {
      "cell_type": "markdown",
      "metadata": {
        "id": "view-in-github",
        "colab_type": "text"
      },
      "source": [
        "<a href=\"https://colab.research.google.com/github/iamatul1214/statistics-using-Python/blob/main/Statistics_concepts_part_1.ipynb\" target=\"_parent\"><img src=\"https://colab.research.google.com/assets/colab-badge.svg\" alt=\"Open In Colab\"/></a>"
      ]
    },
    {
      "cell_type": "markdown",
      "source": [
        "## 1. Z score\n",
        "## 2. IQR (Interquaratile range)"
      ],
      "metadata": {
        "id": "sLBqwav8n9_D"
      }
    },
    {
      "cell_type": "code",
      "source": [
        "import numpy as np\n",
        "import matplotlib.pyplot as plt"
      ],
      "metadata": {
        "id": "MMLKZ4tFoEk6"
      },
      "execution_count": 1,
      "outputs": []
    },
    {
      "cell_type": "code",
      "source": [
        "## Let's define a dataset\n",
        "dataset=[11,1,2,3,4,5,6,7,8,9,110,48,34,23,55,76,82,36,40,50,555,1018,1200,1201,1202]"
      ],
      "metadata": {
        "id": "nzhfNct3oK9c"
      },
      "execution_count": 2,
      "outputs": []
    },
    {
      "cell_type": "code",
      "source": [
        "## Let's try to plot them on histomgram\n",
        "plt.hist(dataset)"
      ],
      "metadata": {
        "colab": {
          "base_uri": "https://localhost:8080/",
          "height": 355
        },
        "id": "liwkWMwVogGs",
        "outputId": "fd723dac-6756-453e-ee42-f68e78dbc4ae"
      },
      "execution_count": 3,
      "outputs": [
        {
          "output_type": "execute_result",
          "data": {
            "text/plain": [
              "(array([20.,  0.,  0.,  0.,  1.,  0.,  0.,  0.,  1.,  3.]),\n",
              " array([1.0000e+00, 1.2110e+02, 2.4120e+02, 3.6130e+02, 4.8140e+02,\n",
              "        6.0150e+02, 7.2160e+02, 8.4170e+02, 9.6180e+02, 1.0819e+03,\n",
              "        1.2020e+03]),\n",
              " <a list of 10 Patch objects>)"
            ]
          },
          "metadata": {},
          "execution_count": 3
        },
        {
          "output_type": "display_data",
          "data": {
            "image/png": "[encoded data removed]",
            "text/plain": [
              "<Figure size 432x288 with 1 Axes>"
            ]
          },
          "metadata": {
            "needs_background": "light"
          }
        }
      ]
    },
    {
      "cell_type": "code",
      "source": [
        "## Let's create a function for detecting the outliers using Zscore\n",
        "def find_outliers(data):\n",
        "  threshold=3      ## we are assuming that any values which are more than 3rd standard deviation will be outlier\n",
        "  mean=np.mean(data)\n",
        "  sd=np.std(data)\n",
        "\n",
        "  for i in data:\n",
        "    z_score=(i-mean)/sd\n",
        "\n",
        "    if np.abs(z_score) > threshold :\n",
        "      outliers.append(i)\n",
        "\n",
        "  return outliers"
      ],
      "metadata": {
        "id": "z52HJr-polUn"
      },
      "execution_count": 4,
      "outputs": []
    },
    {
      "cell_type": "code",
      "source": [
        "outliers=find_outliers(dataset)\n",
        "print(outliers)"
      ],
      "metadata": {
        "colab": {
          "base_uri": "https://localhost:8080/",
          "height": 278
        },
        "id": "EfKlau7BpW_-",
        "outputId": "671d38f8-5b21-4781-d526-0901d719926d"
      },
      "execution_count": 5,
      "outputs": [
        {
          "output_type": "error",
          "ename": "NameError",
          "evalue": "ignored",
          "traceback": [
            "\u001b[0;31m---------------------------------------------------------------------------\u001b[0m",
            "\u001b[0;31mNameError\u001b[0m                                 Traceback (most recent call last)",
            "\u001b[0;32m<ipython-input-5-9067d4a418d8>\u001b[0m in \u001b[0;36m<module>\u001b[0;34m()\u001b[0m\n\u001b[0;32m----> 1\u001b[0;31m \u001b[0moutliers\u001b[0m\u001b[0;34m=\u001b[0m\u001b[0mfind_outliers\u001b[0m\u001b[0;34m(\u001b[0m\u001b[0mdataset\u001b[0m\u001b[0;34m)\u001b[0m\u001b[0;34m\u001b[0m\u001b[0;34m\u001b[0m\u001b[0m\n\u001b[0m\u001b[1;32m      2\u001b[0m \u001b[0mprint\u001b[0m\u001b[0;34m(\u001b[0m\u001b[0moutliers\u001b[0m\u001b[0;34m)\u001b[0m\u001b[0;34m\u001b[0m\u001b[0;34m\u001b[0m\u001b[0m\n",
            "\u001b[0;32m<ipython-input-4-0855545702a1>\u001b[0m in \u001b[0;36mfind_outliers\u001b[0;34m(data)\u001b[0m\n\u001b[1;32m     11\u001b[0m       \u001b[0moutliers\u001b[0m\u001b[0;34m.\u001b[0m\u001b[0mappend\u001b[0m\u001b[0;34m(\u001b[0m\u001b[0mi\u001b[0m\u001b[0;34m)\u001b[0m\u001b[0;34m\u001b[0m\u001b[0;34m\u001b[0m\u001b[0m\n\u001b[1;32m     12\u001b[0m \u001b[0;34m\u001b[0m\u001b[0m\n\u001b[0;32m---> 13\u001b[0;31m   \u001b[0;32mreturn\u001b[0m \u001b[0moutliers\u001b[0m\u001b[0;34m\u001b[0m\u001b[0;34m\u001b[0m\u001b[0m\n\u001b[0m",
            "\u001b[0;31mNameError\u001b[0m: name 'outliers' is not defined"
          ]
        }
      ]
    },
    {
      "cell_type": "markdown",
      "source": [
        "### 2. IQR\n",
        "      Steps to calculate IQR\n",
        "      1. Sort the dataset\n",
        "      2. Calculate Q1(25 precentile) and Q3 (75 percentile)\n",
        "      3. IQR= Q3 - Q1\n",
        "      4. Lower fence= Q1-1.5(IQR)\n",
        "      5. Upper fence= Q3 +1.5(IQR)"
      ],
      "metadata": {
        "id": "KCUesPLqqysh"
      }
    },
    {
      "cell_type": "code",
      "source": [
        "## sorting the data\n",
        "sorted_dataset=sorted(dataset)\n",
        "print(sorted_dataset)"
      ],
      "metadata": {
        "colab": {
          "base_uri": "https://localhost:8080/"
        },
        "id": "9JNTwmI1pcTh",
        "outputId": "49d4db5d-8bb3-4852-ca51-e60663ac7308"
      },
      "execution_count": 6,
      "outputs": [
        {
          "output_type": "stream",
          "name": "stdout",
          "text": [
            "[1, 2, 3, 4, 5, 6, 7, 8, 9, 11, 23, 34, 36, 40, 48, 50, 55, 76, 82, 110, 555, 1018, 1200, 1201, 1202]\n"
          ]
        }
      ]
    },
    {
      "cell_type": "code",
      "source": [
        "## calculating Q1 and Q3\n",
        "q1,q3=np.percentile(dataset,[25,75])\n",
        "print(q1,q3)\n"
      ],
      "metadata": {
        "colab": {
          "base_uri": "https://localhost:8080/"
        },
        "id": "-IiixbcfuMSb",
        "outputId": "f3172ec6-9553-4d27-add4-d857c365f19e"
      },
      "execution_count": 7,
      "outputs": [
        {
          "output_type": "stream",
          "name": "stdout",
          "text": [
            "7.0 82.0\n"
          ]
        }
      ]
    },
    {
      "cell_type": "code",
      "source": [
        "## calculating IQR\n",
        "Iqr=q3-q1\n",
        "Iqr"
      ],
      "metadata": {
        "colab": {
          "base_uri": "https://localhost:8080/"
        },
        "id": "HMuofV0euzrK",
        "outputId": "36e4706c-4c88-4f38-ebe7-3478554867e7"
      },
      "execution_count": 8,
      "outputs": [
        {
          "output_type": "execute_result",
          "data": {
            "text/plain": [
              "75.0"
            ]
          },
          "metadata": {},
          "execution_count": 8
        }
      ]
    },
    {
      "cell_type": "code",
      "source": [
        "## calculating lower fence and upper fence\n",
        "lower_fence=q1-(1.5 *Iqr)\n",
        "upper_fence=q3+(1.5 *Iqr)\n",
        "\n",
        "print(f\"lower fence = {lower_fence} and upper fence= {upper_fence}\")"
      ],
      "metadata": {
        "colab": {
          "base_uri": "https://localhost:8080/"
        },
        "id": "g1jbPuQ5vPzc",
        "outputId": "0783352e-5423-4b78-9fd4-d4b82ea7fc17"
      },
      "execution_count": 9,
      "outputs": [
        {
          "output_type": "stream",
          "name": "stdout",
          "text": [
            "lower fence = -105.5 and upper fence= 194.5\n"
          ]
        }
      ]
    },
    {
      "cell_type": "code",
      "source": [
        "## we can even plot the boxplot and see the outliers there\n",
        "import seaborn as sns\n",
        "sns.boxplot(dataset)"
      ],
      "metadata": {
        "colab": {
          "base_uri": "https://localhost:8080/",
          "height": 339
        },
        "id": "C5bqTKZpwBtZ",
        "outputId": "b3f69592-f656-4df0-fd5c-7ba4c9d2824e"
      },
      "execution_count": 10,
      "outputs": [
        {
          "output_type": "stream",
          "name": "stderr",
          "text": [
            "/usr/local/lib/python3.7/dist-packages/seaborn/_decorators.py:43: FutureWarning: Pass the following variable as a keyword arg: x. From version 0.12, the only valid positional argument will be `data`, and passing other arguments without an explicit keyword will result in an error or misinterpretation.\n",
            "  FutureWarning\n"
          ]
        },
        {
          "output_type": "execute_result",
          "data": {
            "text/plain": [
              "<matplotlib.axes._subplots.AxesSubplot at 0x7ff422a3f850>"
            ]
          },
          "metadata": {},
          "execution_count": 10
        },
        {
          "output_type": "display_data",
          "data": {
            "image/png": "[encoded data removed]",
            "text/plain": [
              "<Figure size 432x288 with 1 Axes>"
            ]
          },
          "metadata": {
            "needs_background": "light"
          }
        }
      ]
    },
    {
      "cell_type": "code",
      "source": [
        ""
      ],
      "metadata": {
        "id": "L6Os3wihzguk"
      },
      "execution_count": null,
      "outputs": []
    }
  ]
}